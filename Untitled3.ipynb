{
 "cells": [
  {
   "cell_type": "code",
   "execution_count": 2,
   "id": "f8f77b45",
   "metadata": {},
   "outputs": [],
   "source": [
    "from qiskit import BasicAer\n",
    "from qiskit.utils import QuantumInstance, algorithm_globals\n",
    "from qiskit.algorithms.optimizers import COBYLA\n",
    "from qiskit.circuit.library import TwoLocal\n",
    "from qiskit_machine_learning.algorithms import VQC\n",
    "from qiskit_machine_learning.datasets import wine\n",
    "from qiskit_machine_learning.circuit.library import RawFeatureVector"
   ]
  },
  {
   "cell_type": "code",
   "execution_count": 3,
   "id": "db159cc4",
   "metadata": {},
   "outputs": [],
   "source": [
    "seed = 1376\n",
    "algorithm_globals.random_seed = seed"
   ]
  },
  {
   "cell_type": "code",
   "execution_count": 4,
   "id": "8b51dd18",
   "metadata": {},
   "outputs": [],
   "source": [
    "feature_dim = 4  # dimension of each data point\n",
    "training_size = 12\n",
    "test_size = 4"
   ]
  },
  {
   "cell_type": "code",
   "execution_count": 5,
   "id": "6e45716e",
   "metadata": {},
   "outputs": [],
   "source": [
    "training_features, training_labels, test_features, test_labels = \\\n",
    "            wine(training_size=training_size, test_size=test_size, n=feature_dim)"
   ]
  },
  {
   "cell_type": "code",
   "execution_count": 7,
   "id": "73217396",
   "metadata": {},
   "outputs": [
    {
     "name": "stderr",
     "output_type": "stream",
     "text": [
      "Cannot compute gradient operator! Continuing without gradients!\n"
     ]
    }
   ],
   "source": [
    "feature_map = RawFeatureVector(feature_dimension=feature_dim)\n",
    "ansatz = TwoLocal(feature_map.num_qubits, ['ry', 'rz'], 'cz', reps=3)\n",
    "vqc = VQC(feature_map=feature_map,\n",
    "            ansatz=ansatz,\n",
    "            optimizer=COBYLA(maxiter=100),\n",
    "            quantum_instance=QuantumInstance(BasicAer.get_backend('statevector_simulator'),\n",
    "                                                shots=1024,\n",
    "                                                seed_simulator=seed,\n",
    "                                                seed_transpiler=seed)\n",
    "         )"
   ]
  },
  {
   "cell_type": "code",
   "execution_count": 8,
   "id": "622f03fc",
   "metadata": {},
   "outputs": [
    {
     "data": {
      "text/plain": [
       "<qiskit_machine_learning.algorithms.classifiers.vqc.VQC at 0x23660809c40>"
      ]
     },
     "execution_count": 8,
     "metadata": {},
     "output_type": "execute_result"
    }
   ],
   "source": [
    "vqc.fit(training_features, training_labels)"
   ]
  },
  {
   "cell_type": "code",
   "execution_count": 9,
   "id": "973a0dca",
   "metadata": {},
   "outputs": [
    {
     "name": "stdout",
     "output_type": "stream",
     "text": [
      "Testing accuracy: 1.00\n"
     ]
    }
   ],
   "source": [
    "score = vqc.score(test_features, test_labels)\n",
    "print('Testing accuracy: {:0.2f}'.format(score))"
   ]
  },
  {
   "cell_type": "code",
   "execution_count": null,
   "id": "ea83c535",
   "metadata": {},
   "outputs": [],
   "source": []
  }
 ],
 "metadata": {
  "kernelspec": {
   "display_name": "Python 3",
   "language": "python",
   "name": "python3"
  },
  "language_info": {
   "codemirror_mode": {
    "name": "ipython",
    "version": 3
   },
   "file_extension": ".py",
   "mimetype": "text/x-python",
   "name": "python",
   "nbconvert_exporter": "python",
   "pygments_lexer": "ipython3",
   "version": "3.9.0"
  }
 },
 "nbformat": 4,
 "nbformat_minor": 5
}
